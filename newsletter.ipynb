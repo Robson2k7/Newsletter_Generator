{
 "cells": [
  {
   "cell_type": "code",
   "execution_count": 1,
   "metadata": {},
   "outputs": [],
   "source": [
    "from openai import OpenAI"
   ]
  },
  {
   "cell_type": "code",
   "execution_count": 2,
   "metadata": {},
   "outputs": [],
   "source": [
    "client = OpenAI()"
   ]
  },
  {
   "cell_type": "code",
   "execution_count": 3,
   "metadata": {},
   "outputs": [],
   "source": [
    "link = input(\"Wklej link do książki lub promocji: \")\n",
    "graphic = input(\"Wklej link do grafiki: \")\n",
    "title = input(\"Wklej temat lub tytuł książki\")\n",
    "text = input(\"Wklej tekst: \")"
   ]
  },
  {
   "cell_type": "code",
   "execution_count": 4,
   "metadata": {},
   "outputs": [],
   "source": [
    "prompt = f\"Sparafrazuj {text}.\""
   ]
  },
  {
   "cell_type": "code",
   "execution_count": 5,
   "metadata": {},
   "outputs": [],
   "source": [
    "response = client.chat.completions.create(\n",
    "    model = \"gpt-4o\",\n",
    "    messages =[{\"role\": \"user\", \"content\": prompt}]\n",
    ")\n",
    "\n",
    "paraphrased_text = response.choices[0].message.content"
   ]
  },
  {
   "cell_type": "code",
   "execution_count": 6,
   "metadata": {},
   "outputs": [],
   "source": [
    "html_form = f\"\"\"\n",
    "<div align=\"center\">\n",
    "    <p><a href=\"{link}\"><img src=\"{graphic}\"></a></p>\n",
    "    \n",
    "    <p><font size=\"4\"><b>{title}</b></font></p>\n",
    "\n",
    "    <p align=\"justify\"><font size=\"4\">{paraphrased_text}</font></p>\n",
    "    \n",
    "    \n",
    "</div>\n",
    "\"\"\""
   ]
  },
  {
   "cell_type": "code",
   "execution_count": 7,
   "metadata": {},
   "outputs": [
    {
     "name": "stdout",
     "output_type": "stream",
     "text": [
      "\n",
      "<div align=\"center\">\n",
      "    <p><a href=\"https://helion.pl/ksiazki/mysl-w-jezyku-python-nauka-programowania-wydanie-iii-allen-b-downey,myjep3.htm#format/d\"><img src=\"https://static01.helion.com.pl/global/okladki/145x218/myjep3.jpg\"></a></p>\n",
      "    \n",
      "    <p><font size=\"4\"><b>Myśl w języku Python! Nauka programowania. Wydanie III</b></font></p>\n",
      "\n",
      "    <p align=\"justify\"><font size=\"4\">Python to świetny język programowania, ceniony za swoją wszechstronność, przejrzystość i zwięzłość, co czyni go atrakcyjnym zarówno dla profesjonalistów, jak i amatorów. Osoby spoza branży również widzą w nim cenne narzędzie do tworzenia aplikacji usprawniających pracę. Trzecie wydanie znanej książki \"Zaawansowany Python\" autorstwa Luciano Ramalho jest doskonałym przewodnikiem dla początkujących. Książka ta wprowadza w podstawy programowania, takie jak zmienne, instrukcje, funkcje i struktury danych, a także programowanie obiektowe. Zaktualizowana wersja zawiera wskazówki dotyczące korzystania z dużych modeli językowych, takich jak ChatGPT, w procesie nauki programowania, w tym tworzenia zapytań oraz testowania i debugowania kodu. Ćwiczenia i strategie zawarte w książce pomogą w unikaniu błędów i szybkiej nauce pisania poprawnego kodu.</font></p>\n",
      "    \n",
      "    \n",
      "</div>\n",
      "\n"
     ]
    }
   ],
   "source": [
    "print(html_form)"
   ]
  },
  {
   "cell_type": "code",
   "execution_count": 8,
   "metadata": {},
   "outputs": [
    {
     "data": {
      "text/plain": [
       "'\\n<div align=\"center\">\\n    <p><a href=\"https://helion.pl/ksiazki/mysl-w-jezyku-python-nauka-programowania-wydanie-iii-allen-b-downey,myjep3.htm#format/d\"><img src=\"https://static01.helion.com.pl/global/okladki/145x218/myjep3.jpg\"></a></p>\\n    \\n    <p><font size=\"4\"><b>Myśl w języku Python! Nauka programowania. Wydanie III</b></font></p>\\n\\n    <p align=\"justify\"><font size=\"4\">Python to świetny język programowania, ceniony za swoją wszechstronność, przejrzystość i zwięzłość, co czyni go atrakcyjnym zarówno dla profesjonalistów, jak i amatorów. Osoby spoza branży również widzą w nim cenne narzędzie do tworzenia aplikacji usprawniających pracę. Trzecie wydanie znanej książki \"Zaawansowany Python\" autorstwa Luciano Ramalho jest doskonałym przewodnikiem dla początkujących. Książka ta wprowadza w podstawy programowania, takie jak zmienne, instrukcje, funkcje i struktury danych, a także programowanie obiektowe. Zaktualizowana wersja zawiera wskazówki dotyczące korzystania z dużych modeli językowych, takich jak ChatGPT, w procesie nauki programowania, w tym tworzenia zapytań oraz testowania i debugowania kodu. Ćwiczenia i strategie zawarte w książce pomogą w unikaniu błędów i szybkiej nauce pisania poprawnego kodu.</font></p>\\n    \\n    \\n</div>\\n'"
      ]
     },
     "execution_count": 8,
     "metadata": {},
     "output_type": "execute_result"
    }
   ],
   "source": [
    "html_form"
   ]
  },
  {
   "cell_type": "markdown",
   "metadata": {},
   "source": [
    "# TERAZ JAKO FUNKCJA"
   ]
  },
  {
   "cell_type": "code",
   "execution_count": 9,
   "metadata": {},
   "outputs": [],
   "source": [
    "def newsletter():\n",
    "    link = input(\"Wklej link do książki lub promocji: \")\n",
    "    graphic = input(\"Wklej link do grafiki: \")\n",
    "    title = input(\"Wklej temat lub tytuł książki\")\n",
    "    text = input(\"Wklej tekst: \")\n",
    "\n",
    "    prompt = f\"Sparafrazuj {text}.\"\n",
    "\n",
    "    response = client.chat.completions.create(\n",
    "        model = \"gpt-4o\",\n",
    "        messages =[{\"role\": \"user\", \"content\": prompt}]\n",
    "    )\n",
    "\n",
    "    paraphrased_text = response.choices[0].message.content\n",
    "\n",
    "    html_form = f\"\"\"\n",
    "        <div align=\"center\">\n",
    "            <p><a href=\"{link}\"><img src=\"{graphic}\"></a></p>\n",
    "    \n",
    "            <p><font size=\"4\"><b>{title}</b></font></p>\n",
    "\n",
    "            <p align=\"justify\"><font size=\"4\">{paraphrased_text}</font></p>\n",
    "    \n",
    "        </div>\n",
    "        \"\"\"\n",
    "    print(html_form)"
   ]
  },
  {
   "cell_type": "code",
   "execution_count": 10,
   "metadata": {},
   "outputs": [
    {
     "data": {
      "text/plain": [
       "<function __main__.newsletter()>"
      ]
     },
     "execution_count": 10,
     "metadata": {},
     "output_type": "execute_result"
    }
   ],
   "source": [
    "newsletter"
   ]
  },
  {
   "cell_type": "code",
   "execution_count": 11,
   "metadata": {},
   "outputs": [
    {
     "name": "stdout",
     "output_type": "stream",
     "text": [
      "\n",
      "        <div align=\"center\">\n",
      "            <p><a href=\"https://helion.pl/ksiazki/windows-server-2022-dla-profesjonalistow-profesjonalna-administracja-srodowiskiem-windows-server-w-jordan-krause,ws22p4.htm#format/d\"><img src=\"https://static01.helion.com.pl/global/okladki/vbig/ws22p4.jpg\"></a></p>\n",
      "    \n",
      "            <p><font size=\"4\"><b>Windows Server 2022 dla profesjonalistów. Profesjonalna administracja środowiskiem Windows Server. Wydanie IV</b></font></p>\n",
      "\n",
      "            <p align=\"justify\"><font size=\"4\">Windows Server to kluczowy element platformy Azure, zdolny obsłużyć nawet najbardziej wymagające zadania w chmurze. Microsoft ciągle ulepsza technologie łączące lokalne centra danych z Azure oraz współpracę kontenerów, takich jak Windows Server, Hyper-V, Docker i Kubernetes. Praca z Windows Server 2022 jest efektywna i satysfakcjonująca. Nowy przewodnik zaktualizowany dla Windows Server 2022 jest cennym źródłem wiedzy dla administratorów serwerów. Zawiera instrukcje dotyczące instalacji i konfiguracji systemu oraz korzystania z narzędzi administracyjnych. Skupia się głównie na Windows Server 2022 LTSC, ale zawiera też informacje o edycji SAC. Opisuje technologie dostępu zdalnego, zarządzanie infrastrukturą klucza publicznego oraz funkcje takie jak Server Core, redundancja czy rozwiązywanie problemów. Omawia także podstawową infrastrukturę, taką jak Active Directory, DNS, DHCP i zasady grupy. Porusza tematy zarządzania serwerami przez różne narzędzia, nowoczesne zabezpieczenia, implementację infrastruktury klucza publicznego, kontenery, Nano Server oraz integrację z Azure. Dzięki temu, Windows Server 2022 zapewnia nowoczesność, stabilność i bezpieczeństwo.</font></p>\n",
      "    \n",
      "        </div>\n",
      "        \n"
     ]
    }
   ],
   "source": [
    "newsletter()"
   ]
  },
  {
   "cell_type": "code",
   "execution_count": null,
   "metadata": {},
   "outputs": [],
   "source": []
  }
 ],
 "metadata": {
  "kernelspec": {
   "display_name": "llm_local",
   "language": "python",
   "name": "python3"
  },
  "language_info": {
   "codemirror_mode": {
    "name": "ipython",
    "version": 3
   },
   "file_extension": ".py",
   "mimetype": "text/x-python",
   "name": "python",
   "nbconvert_exporter": "python",
   "pygments_lexer": "ipython3",
   "version": "3.9.21"
  }
 },
 "nbformat": 4,
 "nbformat_minor": 2
}
